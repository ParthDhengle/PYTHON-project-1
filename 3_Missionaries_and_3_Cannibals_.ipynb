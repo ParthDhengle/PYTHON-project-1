{
  "nbformat": 4,
  "nbformat_minor": 0,
  "metadata": {
    "colab": {
      "provenance": []
    },
    "kernelspec": {
      "name": "python3",
      "display_name": "Python 3"
    },
    "language_info": {
      "name": "python"
    }
  },
  "cells": [
    {
      "cell_type": "code",
      "execution_count": 9,
      "metadata": {
        "id": "QaR_yaCLB9Yo",
        "colab": {
          "base_uri": "https://localhost:8080/"
        },
        "outputId": "2a23e008-e29f-46c9-8184-598446d2f382"
      },
      "outputs": [
        {
          "output_type": "stream",
          "name": "stdout",
          "text": [
            "INSTRUCTIONS:\n",
            "1)you have to take all of them on left side of the river/sea\n",
            "2)Be careful, when the number of missionaries is less then that of cannibals of a side, they will be eaten!\n",
            "\n",
            "  🌊 🌊 🌊 🌊 🌊 🚢 💂💂💂 👹👹👹\n",
            "enter number of missionaries: 2\n",
            "enter number of cannibals: 0\n",
            "ok\n",
            "Boat is on Right side\n",
            "💂💂  🚢 🌊 🌊 🌊 🌊 🌊 💂 👹👹👹\n",
            "You lose! \n"
          ]
        }
      ],
      "source": [
        "from IPython.display import clear_output\n",
        "boat_side='Right'\n",
        "missionaries_on_right=3\n",
        "cannibals_on_right=3\n",
        "missionaries_on_left=0\n",
        "cannibals_on_left=0\n",
        "\n",
        "print(\"INSTRUCTIONS:\\n1)you have to take all of them on left side of the river/sea\\n2)Be careful, when the number of missionaries is less then that of cannibals of a side, they will be eaten!\\n\")\n",
        "\n",
        "print('\\U0001f482'*missionaries_on_left,'\\U0001f479'*cannibals_on_left,'\\U0001f30a','\\U0001f30a','\\U0001f30a','\\U0001f30a','\\U0001f30a','\\U0001f6A2' , '\\U0001f482'*missionaries_on_right,'\\U0001f479'*cannibals_on_right)\n",
        "\n",
        "while True:\n",
        "\n",
        "  missionaries=int(input(\"enter number of missionaries: \"))\n",
        "  cannibals=int(input(\"enter number of cannibals: \"))\n",
        "\n",
        "  if 1<=missionaries+cannibals<=2 :\n",
        "    if boat_side==\"Right\" and (missionaries_on_right<missionaries or cannibals_on_right<cannibals):\n",
        "        print(\"input entered exceed the number present on right ! \")\n",
        "        continue;\n",
        "\n",
        "    elif boat_side==\"Left\" and (missionaries_on_left<missionaries or cannibals_on_left<cannibals):\n",
        "        print(\"input entered exceed the number present on right ! \")\n",
        "        continue;\n",
        "\n",
        "    else:\n",
        "      print('ok')\n",
        "  else:\n",
        "    print(\"invalid move 1\")\n",
        "    continue\n",
        "\n",
        "  if boat_side==\"Right\":\n",
        "    print(\"Boat is on Right side\")\n",
        "\n",
        "    if missionaries + cannibals > missionaries_on_right + cannibals_on_right:\n",
        "      print(\"invalid move 2\")\n",
        "      continue\n",
        "\n",
        "    missionaries_on_right-=missionaries\n",
        "    cannibals_on_right-=cannibals\n",
        "    missionaries_on_left+=missionaries\n",
        "    cannibals_on_left+=cannibals\n",
        "    print('\\U0001f482'*missionaries_on_left,'\\U0001f479'*cannibals_on_left,'\\U0001f6A2','\\U0001f30a','\\U0001f30a','\\U0001f30a','\\U0001f30a','\\U0001f30a' , '\\U0001f482'*missionaries_on_right,'\\U0001f479'*cannibals_on_right)\n",
        "\n",
        "    boat_side=\"Left\"\n",
        "\n",
        "  elif boat_side==\"Left\":\n",
        "    print(\"Boat is on Left side\")\n",
        "\n",
        "    if missionaries + cannibals > missionaries_on_left + cannibals_on_left:\n",
        "      print(\"invalid move 2\")\n",
        "      continue\n",
        "\n",
        "    missionaries_on_left-=missionaries\n",
        "    cannibals_on_left-=cannibals\n",
        "    missionaries_on_right+=missionaries\n",
        "    cannibals_on_right+=cannibals\n",
        "    print('\\U0001f482'*missionaries_on_left,'\\U0001f479'*cannibals_on_left,'\\U0001f30a','\\U0001f30a','\\U0001f30a','\\U0001f30a','\\U0001f30a','\\U0001f6A2', '\\U0001f482'*missionaries_on_right,'\\U0001f479'*cannibals_on_right)\n",
        "\n",
        "    boat_side=\"Right\"\n",
        "\n",
        "  if missionaries_on_right<cannibals_on_right and missionaries_on_right>0:\n",
        "    print(\"You lose! \")\n",
        "    break\n",
        "  if missionaries_on_left<cannibals_on_left and missionaries_on_left>0:\n",
        "    print(\"You lose! \")\n",
        "    break\n",
        "\n",
        "  if(missionaries_on_left==3 and cannibals_on_left==3):\n",
        "    print(\"you won! \")\n",
        "    break"
      ]
    },
    {
      "cell_type": "code",
      "source": [
        "10"
      ],
      "metadata": {
        "id": "xRgwzAhgVsCL"
      },
      "execution_count": null,
      "outputs": []
    }
  ]
}